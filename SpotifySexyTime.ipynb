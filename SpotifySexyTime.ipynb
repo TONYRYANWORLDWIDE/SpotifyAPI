{
 "cells": [
  {
   "cell_type": "code",
   "execution_count": 1,
   "metadata": {},
   "outputs": [],
   "source": [
    "import os\n",
    "import spotipy\n",
    "import spotipy.util as util\n",
    "from spotipy.oauth2 import SpotifyOAuth\n",
    "import itertools\n",
    "from itertools import combinations\n",
    "\n",
    "\n",
    "client_id = SPOTIPY_CLIENT_ID ='bb7c475418484e7784d9cd25b5f9f52c'\n",
    "client_secret = SPOTIPY_CLIENT_SECRET='b0da0baeeab1499884912aea11f4ca58'\n",
    "redirect_uri =SPOTIPY_REDIRECT_URI='https://localhost:8080/callback/'\n",
    "\n",
    "\n",
    "os.environ[\"SPOTIPY_CLIENT_ID\"] = \"bb7c475418484e7784d9cd25b5f9f52c\"\n",
    "os.environ[\"SPOTIPY_CLIENT_SECRET\"] = \"b0da0baeeab1499884912aea11f4ca58\"\n",
    "os.environ[\"SPOTIPY_REDIRECT_URI\"] = \"https://localhost:8080/callback/\"\n",
    "\n",
    "scope = \"playlist-modify-public playlist-modify-private user-modify-playback-state user-top-read\"\n",
    "scope +=            \" user-modify-playback-state user-read-playback-state user-library-read user-library-modify\"\n",
    "# username = '1238315340'\n",
    "username ='tonyryanworldwide'\n",
    "\n",
    "        \n",
    "token = util.prompt_for_user_token(username, scope, client_id, client_secret, redirect_uri)        \n",
    "sp = spotipy.Spotify(auth_manager=SpotifyOAuth(scope=scope,username=username))\n"
   ]
  },
  {
   "cell_type": "code",
   "execution_count": 79,
   "metadata": {},
   "outputs": [
    {
     "name": "stdout",
     "output_type": "stream",
     "text": [
      "How many minutes can you last: 40\n"
     ]
    }
   ],
   "source": [
    "playlists =sp.user_playlists(username)['items']\n",
    "ijusthadsexid = '5PEleSkK4p4E1sx3x7cOLt'\n",
    "ijusthadsexid_length = sp.track(ijusthadsexid)['duration_ms'] / 1000\n",
    "\n",
    "studlength = input(\"How many minutes can you last: \")\n",
    "studlength = int(studlength)\n",
    "studlength_seconds = studlength * 60\n",
    "sexytimeplaylistid = ''\n",
    "for playlist in playlists:\n",
    "    if playlist['name'] == 'sexy time':\n",
    "        sexytimeplaylistid = playlist['uri']"
   ]
  },
  {
   "cell_type": "code",
   "execution_count": 84,
   "metadata": {},
   "outputs": [],
   "source": [
    "if sexytimeplaylistid == '':\n",
    "    sexytimeplaylistid = sp.user_playlist_create(user=username, name ='sexy time',public = False,description = \"Give it to her good\")['id']\n",
    "        \n",
    "\n",
    "exclude_genres = ['east coast hip hop','movie tunes','folk punk','healing']\n",
    "sexytimetracks = sp.playlist_tracks(sexytimeplaylistid)['items']\n",
    "tracklength = {}\n",
    "toptracks = sp.current_user_top_tracks(limit=50)['items']\n",
    "for track in sexytimetracks:\n",
    "    if track['track']['id'] != '5PEleSkK4p4E1sx3x7cOLt':\n",
    "        tracklength[track['track']['id']] = track['track']['duration_ms'] / 1000"
   ]
  },
  {
   "cell_type": "code",
   "execution_count": 85,
   "metadata": {},
   "outputs": [],
   "source": [
    "for track2 in toptracks:\n",
    "    \n",
    "    if track2['id'] != '5PEleSkK4p4E1sx3x7cOLt':\n",
    "        tracklength[track2['id']] = track2['duration_ms'] / 1000"
   ]
  },
  {
   "cell_type": "code",
   "execution_count": 44,
   "metadata": {},
   "outputs": [],
   "source": [
    "\n",
    "# for tracks in tracklength.copy():\n",
    "    \n",
    "# #     analysis = sp.audio_analysis(tracks)\n",
    "# #     tempo = analysis['track']['tempo']\n",
    "\n",
    "\n",
    "#     tr = sp.track(tracks)\n",
    "# #     name = tr['name']   \n",
    "#     artist = tr['artists'][0]['id']\n",
    "#     try:\n",
    "#         genre = sp.artist(artist)['genres'][0]\n",
    "#     except:\n",
    "#         genre = ''\n",
    "#     if (genre in exclude_genres): #or tempo > 100:\n",
    "#         del tracklength[tracks]"
   ]
  },
  {
   "cell_type": "code",
   "execution_count": 86,
   "metadata": {},
   "outputs": [
    {
     "data": {
      "text/plain": [
       "49"
      ]
     },
     "execution_count": 86,
     "metadata": {},
     "output_type": "execute_result"
    }
   ],
   "source": [
    "len(tracklength)"
   ]
  },
  {
   "cell_type": "code",
   "execution_count": 87,
   "metadata": {},
   "outputs": [],
   "source": [
    "    tracks=sp.tracks(tracklength.keys())\n",
    "    for trk in tracks['tracks']:\n",
    "        id = trk['id']\n",
    "        name = trk['name']\n",
    "        artist = trk['artists'][0]['id']\n",
    "        try:\n",
    "            genre = sp.artist(artist)['genres'][0]\n",
    "        except:\n",
    "            genre = ''\n",
    "        if (genre in exclude_genres): \n",
    "            del tracklength[id]\n",
    "\n",
    "    features = sp.audio_features(tracklength.keys())\n",
    "    for feature in features:\n",
    "        id = feature['id']\n",
    "        tempo = feature['tempo']\n",
    "        if tempo > 100:\n",
    "            del tracklength[id]      \n",
    "        \n",
    "\n",
    "\n",
    "\n"
   ]
  },
  {
   "cell_type": "code",
   "execution_count": 77,
   "metadata": {},
   "outputs": [
    {
     "name": "stdout",
     "output_type": "stream",
     "text": [
      "7By7UYWA21PcKoKCl8ZaI7 84.04\n",
      "3r5QNhXZ6RtCXmIpOCjVJ8 81.957\n",
      "1Dr1fXbc2IxaK1Mu8P8Khz 97.546\n",
      "3Uvx1TO0Kg5HgGPk58lHXv 80.289\n",
      "0GhaXeVOB6qeKWFlrt5K4t 99.489\n",
      "1jvoeTYt8usIxGWQUSzEyz 92.06\n",
      "54K7AZoGpQklpygKrxZlKN 83.005\n",
      "5RjbFGeWVsCpw8EcE8OrvZ 92.703\n",
      "3PzsbWSQdLCKDLxn7YZfkM 88.591\n",
      "58MDm6l6mI4hGaRqNezOnu 99.52\n",
      "1jYiIOC5d6soxkJP81fxq2 80.984\n",
      "7vF3xkCMvZjAe2nTWY0uQZ 82.125\n",
      "7FOJvA3PxiIU0DN3JjQ7jT 99.991\n",
      "6jMbPsH6lTOLs5n8Af26AG 79.776\n",
      "2qv3ZmGmW2RsusJ6ABgTjN 80.238\n"
     ]
    },
    {
     "data": {
      "text/plain": [
       "{'7By7UYWA21PcKoKCl8ZaI7': 300.933,\n",
       " '3r5QNhXZ6RtCXmIpOCjVJ8': 339.306,\n",
       " '1Dr1fXbc2IxaK1Mu8P8Khz': 178.0,\n",
       " '3Uvx1TO0Kg5HgGPk58lHXv': 253.413,\n",
       " '0GhaXeVOB6qeKWFlrt5K4t': 203.066,\n",
       " '1jvoeTYt8usIxGWQUSzEyz': 225.333,\n",
       " '54K7AZoGpQklpygKrxZlKN': 222.146,\n",
       " '5RjbFGeWVsCpw8EcE8OrvZ': 333.293,\n",
       " '3PzsbWSQdLCKDLxn7YZfkM': 155.88,\n",
       " '58MDm6l6mI4hGaRqNezOnu': 204.733,\n",
       " '1jYiIOC5d6soxkJP81fxq2': 288.876,\n",
       " '7vF3xkCMvZjAe2nTWY0uQZ': 238.4,\n",
       " '7FOJvA3PxiIU0DN3JjQ7jT': 241.16,\n",
       " '6jMbPsH6lTOLs5n8Af26AG': 159.293,\n",
       " '2qv3ZmGmW2RsusJ6ABgTjN': 159.66}"
      ]
     },
     "execution_count": 77,
     "metadata": {},
     "output_type": "execute_result"
    }
   ],
   "source": [
    "features = sp.audio_features(tracklength.keys())\n",
    "for feature in features:\n",
    "    id = feature['id']\n",
    "    tempo = feature['tempo']\n",
    "    print(id,tempo)\n",
    "    if tempo > 100:\n",
    "        del tracklength[id]"
   ]
  },
  {
   "cell_type": "code",
   "execution_count": 63,
   "metadata": {},
   "outputs": [
    {
     "data": {
      "text/plain": [
       "dict_keys(['7By7UYWA21PcKoKCl8ZaI7', '3r5QNhXZ6RtCXmIpOCjVJ8', '1Dr1fXbc2IxaK1Mu8P8Khz', '3Uvx1TO0Kg5HgGPk58lHXv', '0GhaXeVOB6qeKWFlrt5K4t', '1jvoeTYt8usIxGWQUSzEyz', '592nTDJAy8AucV4KKIDCmA', '2sezFaefMm8XN2o5t8QXhh', '12RSkRD6HoDw5x4LMC7CmY', '14QtCWJaRgMj6dkUs6dkcT', '50uac8ndhYxYMX5VS4GT7q', '7eZyj92v6bZsoQ85MxWZsO', '54K7AZoGpQklpygKrxZlKN', '5RjbFGeWVsCpw8EcE8OrvZ', '6AZg0e6Hq9s8a10jnQC8PS', '3PzsbWSQdLCKDLxn7YZfkM', '58MDm6l6mI4hGaRqNezOnu', '4wNIkl5XGiAACjFBlDWuSd', '7LPOuXrEmopus1xZDfGljy', '1jYiIOC5d6soxkJP81fxq2', '1W02KkFerpTBP29RKIt2c4', '6eT7xZZlB2mwyzJ2sUKG6w', '1zB4vmk8tFRmM9UULNzbLB', '7vF3xkCMvZjAe2nTWY0uQZ', '6PGoSes0D9eUDeeAafB2As', '7FOJvA3PxiIU0DN3JjQ7jT', '2m1hi0nfMR9vdGC8UcrnwU', '1RUTIdTnFs8lHSc0Zr4UJB', '5AcdaSVQfLcUKMaqchfBie', '6jMbPsH6lTOLs5n8Af26AG', '10Q26DXQAlvQlnKRdZJgec', '6iG7IQz58E3syk9B6TxkgG', '4aX4Oycsk1fhHIee1zqsDe', '0h2eP1Lv0WmWzNba6l9GnC', '2WC9lgtfcApmuCqrNV6Nov', '3bE5slaVEfaDreqARl6k4M', '6pfgRF6cCudEYBqFGRPzFP', '3EqGwF2GtVE8YExX0nWDcK', '1BwhFXqoIsePt21WyWIttb', '396oLs4Mt8k45Lv5aD6EF3', '1TPDQdaZRk0xyV8hdN3poa', '2qv3ZmGmW2RsusJ6ABgTjN', '4ZVZBc5xvMyV3WzWktn8i7', '52Py0IQ1puyFUQuBJ46Ze2', '1dr8WENPLdPpcLVzyDXLNn'])"
      ]
     },
     "execution_count": 63,
     "metadata": {},
     "output_type": "execute_result"
    }
   ],
   "source": [
    "# sp.audio_analysis([['7By7UYWA21PcKoKCl8ZaI7','1Dr1fXbc2IxaK1Mu8P8Khz']])\n",
    "tracklength.keys()"
   ]
  },
  {
   "cell_type": "code",
   "execution_count": 64,
   "metadata": {},
   "outputs": [
    {
     "data": {
      "text/plain": [
       "[{'danceability': 0.5,\n",
       "  'energy': 0.313,\n",
       "  'key': 0,\n",
       "  'loudness': -8.447,\n",
       "  'mode': 1,\n",
       "  'speechiness': 0.0253,\n",
       "  'acousticness': 0.162,\n",
       "  'instrumentalness': 5.49e-05,\n",
       "  'liveness': 0.117,\n",
       "  'valence': 0.171,\n",
       "  'tempo': 84.04,\n",
       "  'type': 'audio_features',\n",
       "  'id': '7By7UYWA21PcKoKCl8ZaI7',\n",
       "  'uri': 'spotify:track:7By7UYWA21PcKoKCl8ZaI7',\n",
       "  'track_href': 'https://api.spotify.com/v1/tracks/7By7UYWA21PcKoKCl8ZaI7',\n",
       "  'analysis_url': 'https://api.spotify.com/v1/audio-analysis/7By7UYWA21PcKoKCl8ZaI7',\n",
       "  'duration_ms': 300933,\n",
       "  'time_signature': 4}]"
      ]
     },
     "execution_count": 64,
     "metadata": {},
     "output_type": "execute_result"
    }
   ],
   "source": [
    "sp.audio_features('7By7UYWA21PcKoKCl8ZaI7')"
   ]
  },
  {
   "cell_type": "code",
   "execution_count": null,
   "metadata": {
    "scrolled": true
   },
   "outputs": [],
   "source": [
    "playlists =sp.user_playlists(username)['items']\n",
    "ijusthadsexid = '5PEleSkK4p4E1sx3x7cOLt'\n",
    "ijusthadsexid_length = sp.track(ijusthadsexid)['duration_ms'] / 1000\n",
    "\n",
    "studlength = input(\"How many minutes can you last: \")\n",
    "studlength = int(studlength)\n",
    "studlength_seconds = studlength * 60\n",
    "sexytimeplaylistid = ''\n",
    "for playlist in playlists:\n",
    "    if playlist['name'] == 'sexy time':\n",
    "        sexytimeplaylistid = playlist['uri']\n",
    "\n",
    "if sexytimeplaylistid == '':\n",
    "    sexytimeplaylistid = sp.user_playlist_create(user=username, name ='sexy time',public = False,description = \"Give it to her good\")['id']\n",
    "        \n",
    "\n",
    "exclude_genres = ['east coast hip hop','movie tunes','folk punk','healing']\n",
    "sexytimetracks = sp.playlist_tracks(sexytimeplaylistid)['items']\n",
    "tracklength = {}\n",
    "toptracks = sp.current_user_top_tracks(limit=50)['items']\n",
    "for track in sexytimetracks:\n",
    "    if track['track']['id'] != '5PEleSkK4p4E1sx3x7cOLt':\n",
    "        tracklength[track['track']['id']] = track['track']['duration_ms'] / 1000\n",
    "        \n",
    "for track2 in toptracks:\n",
    "    \n",
    "    if track2['id'] != '5PEleSkK4p4E1sx3x7cOLt':\n",
    "        tracklength[track2['id']] = track2['duration_ms'] / 1000\n",
    "        \n",
    "for tracks in tracklength.copy():\n",
    "    analysis = sp.audio_analysis(tracks)\n",
    "    tempo = analysis['track']['tempo']\n",
    "    tr = sp.track(tracks)\n",
    "    name = tr['name']   \n",
    "    artist = tr['artists'][0]['id']\n",
    "    try:\n",
    "        genre = sp.artist(artist)['genres'][0]\n",
    "    except:\n",
    "        genre = ''\n",
    "    if (genre in exclude_genres) or tempo > 100:\n",
    "        del tracklength[tracks]"
   ]
  },
  {
   "cell_type": "code",
   "execution_count": null,
   "metadata": {},
   "outputs": [],
   "source": [
    "tracklength['7By7UYWA21PcKoKCl8ZaI7']"
   ]
  },
  {
   "cell_type": "code",
   "execution_count": null,
   "metadata": {},
   "outputs": [],
   "source": [
    "tracklengths = list(tracklength.values())\n",
    "average_track_length = sum(tracklengths) / len(tracklengths)\n",
    "numberofsongsneeded = round(studlength_seconds / average_track_length)\n",
    "\n",
    "def find_closest_sum(numbers, target, n):\n",
    "    permlist = list(map(dict, itertools.combinations(numbers.items(), n)))\n",
    "    sumlist = [sum(l.values()) for l in permlist]    \n",
    "    maxpos = 0\n",
    "    for i in range(1, len(sumlist)):\n",
    "        if abs(sumlist[i] - target) < abs(sumlist[maxpos]-target):\n",
    "             maxpos = i\n",
    "    return permlist[maxpos]\n",
    "\n",
    "result_shown = find_closest_sum(tracklength, studlength_seconds, numberofsongsneeded)\n",
    "trackstoadd = list(result_shown.keys())"
   ]
  },
  {
   "cell_type": "code",
   "execution_count": null,
   "metadata": {},
   "outputs": [],
   "source": [
    "sexytimetracks = sp.playlist_tracks(sexytimeplaylistid)['items']\n",
    "deletelist = []\n",
    "for x in sexytimetracks:\n",
    "    deletelist.append(x['track']['id'])\n",
    "    sp.user_playlist_remove_all_occurrences_of_tracks(username,sexytimeplaylistid,deletelist)   \n",
    "\n",
    "sp.user_playlist_add_tracks(user = username, playlist_id =sexytimeplaylistid,tracks = [ijusthadsexid],position = 0 )\n",
    "sp.user_playlist_add_tracks(user = username, playlist_id =sexytimeplaylistid,tracks = trackstoadd,position = 0 )"
   ]
  }
 ],
 "metadata": {
  "kernelspec": {
   "display_name": "Python 3",
   "language": "python",
   "name": "python3"
  },
  "language_info": {
   "codemirror_mode": {
    "name": "ipython",
    "version": 3
   },
   "file_extension": ".py",
   "mimetype": "text/x-python",
   "name": "python",
   "nbconvert_exporter": "python",
   "pygments_lexer": "ipython3",
   "version": "3.7.1"
  }
 },
 "nbformat": 4,
 "nbformat_minor": 4
}
