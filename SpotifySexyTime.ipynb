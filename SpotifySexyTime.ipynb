{
 "cells": [
  {
   "cell_type": "code",
   "execution_count": 1,
   "metadata": {},
   "outputs": [],
   "source": [
    "import os\n",
    "import spotipy\n",
    "import spotipy.util as util\n",
    "from spotipy.oauth2 import SpotifyOAuth\n",
    "import itertools\n",
    "from itertools import combinations\n",
    "\n",
    "\n",
    "client_id = SPOTIPY_CLIENT_ID ='bb7c475418484e7784d9cd25b5f9f52c'\n",
    "client_secret = SPOTIPY_CLIENT_SECRET='b0da0baeeab1499884912aea11f4ca58'\n",
    "redirect_uri =SPOTIPY_REDIRECT_URI='https://localhost:8080/callback/'\n",
    "\n",
    "\n",
    "os.environ[\"SPOTIPY_CLIENT_ID\"] = \"bb7c475418484e7784d9cd25b5f9f52c\"\n",
    "os.environ[\"SPOTIPY_CLIENT_SECRET\"] = \"b0da0baeeab1499884912aea11f4ca58\"\n",
    "os.environ[\"SPOTIPY_REDIRECT_URI\"] = \"https://localhost:8080/callback/\"\n",
    "\n",
    "scope = \"playlist-modify-public playlist-modify-private user-modify-playback-state user-top-read\"\n",
    "scope +=            \" user-modify-playback-state user-read-playback-state user-library-read user-library-modify\"\n",
    "# username = '1238315340'\n",
    "username ='tonyryanworldwide'\n",
    "\n",
    "        \n",
    "token = util.prompt_for_user_token(username, scope, client_id, client_secret, redirect_uri)        \n",
    "sp = spotipy.Spotify(auth_manager=SpotifyOAuth(scope=scope,username=username))\n"
   ]
  },
  {
   "cell_type": "code",
   "execution_count": 57,
   "metadata": {},
   "outputs": [
    {
     "name": "stdout",
     "output_type": "stream",
     "text": [
      "How many minutes can you last: 25\n",
      "740gNyGWKk98gy8nJLhHrv\n",
      "Slippin' 1HwM5zlC5qNWhJtM00yXzG east coast hip hop\n",
      "1bdhhKZAxmdqAOt18QFXNc\n",
      "Deep Theta 4 Hz 2J3qGaj5UzHvu0fjlLgb8k healing\n",
      "592nTDJAy8AucV4KKIDCmA\n",
      "Generator 7jy3rLJdDQY21OgRLCZ9sD alternative metal\n",
      "2sezFaefMm8XN2o5t8QXhh\n",
      "Wiseblood (Johnny Jewel Remix) 78OKNrjc3BvniYTqvpOp6P art pop\n",
      "12RSkRD6HoDw5x4LMC7CmY\n",
      "Lucky 2zsLaQhHFdQPdFXqG1nRmM alternative metal\n",
      "14QtCWJaRgMj6dkUs6dkcT\n",
      "Numb 51Blml2LZPmy7TTiAg47vQ irish rock\n",
      "7GmiJVBAzWNikX5VkNQg85\n",
      "Hawaiian Roller Coaster Ride - From \"Lilo & Stitch\"/Soundtrack Version 7ysDgZ3JkblCgOsDTJWttt movie tunes\n",
      "50uac8ndhYxYMX5VS4GT7q\n",
      "Theta Wave 5Hz 5lKaPKuNyNz6LN6NfM5vz1 binaural\n",
      "7eZyj92v6bZsoQ85MxWZsO\n",
      "Lazy Eye 6qyi8X6MdP1lu6B1K6yh3h alternative metal\n",
      "6eT7xZZlB2mwyzJ2sUKG6w\n",
      "White Iverson 246dkjvS1zLTtiykXe5h60 dfw rap\n",
      "2WfUJTyZ2Nkw1iCU2tHOJZ\n",
      "Bellavia 11QKTxjqZm5sGnumdFiU9O \n",
      "1W02KkFerpTBP29RKIt2c4\n",
      "Something's Always Wrong 4j7EVY3kuDwLPfD2jfC7LC alternative rock\n",
      "6AZg0e6Hq9s8a10jnQC8PS\n",
      "Man Of The Hour 0mXTJETA4XUa12MmmXxZJh permanent wave\n",
      "6PGoSes0D9eUDeeAafB2As\n",
      "LOVE. FEAT. ZACARI. 2YZyLoL8N0Wb9xBt1NhZWg conscious hip hop\n",
      "1RUTIdTnFs8lHSc0Zr4UJB\n",
      "Up Up & Away 0fA0VVWsXO9YnASrzqfmYu hip hop\n",
      "4wNIkl5XGiAACjFBlDWuSd\n",
      "What A Man Gotta Do 7gOdHgIoIKoe4i9Tta6qdD boy band\n",
      "7LPOuXrEmopus1xZDfGljy\n",
      "Don't Stop Believin' - Live Version 0rvjqX7ttXeg3mTy8Xscbt album rock\n",
      "6iG7IQz58E3syk9B6TxkgG\n",
      "Skin Turns Blue 5wTpMQz4RtF6dFX9blvMDc pop rock\n",
      "396oLs4Mt8k45Lv5aD6EF3\n",
      "Free Fallin' 5X09SRt3qx77eh0XRreLjr christian alternative rock\n",
      "1zB4vmk8tFRmM9UULNzbLB\n",
      "Thunder 53XhwfbYqKCa1cC15pYq2q modern rock\n",
      "3EqGwF2GtVE8YExX0nWDcK\n",
      "Come Back Down 4j7EVY3kuDwLPfD2jfC7LC alternative rock\n",
      "2m1hi0nfMR9vdGC8UcrnwU\n",
      "All The Small Things 6FBDaR13swtiWwGhX1WQsP pop punk\n",
      "58LflM1owDAzQkYIL7ayCX\n",
      "Why 5pnbUBPifNnlusY8kTBivi battle rap\n",
      "1TPDQdaZRk0xyV8hdN3poa\n",
      "Crazy Life 4j7EVY3kuDwLPfD2jfC7LC alternative rock\n",
      "5UwGMbEKlvXFj7DXI1d0P1\n",
      "I Was a Teenage Anarchist 29lz7gs8edwnnfuXW4FhMl folk punk\n",
      "10Q26DXQAlvQlnKRdZJgec\n",
      "No One to Run With 4wQ3PyMz3WwJGI5uEqHUVR album rock\n",
      "0h2eP1Lv0WmWzNba6l9GnC\n",
      "29 6kXp61QMZFPcKMcRPqoiVj alternative rock\n",
      "2tJlASUdstRCCecAN9rThS\n",
      "Fall Down 4j7EVY3kuDwLPfD2jfC7LC alternative rock\n",
      "6pfgRF6cCudEYBqFGRPzFP\n",
      "The Boy From Seattle 32Jb1X3wSmmoHj2epZReZA instrumental rock\n",
      "1dr8WENPLdPpcLVzyDXLNn\n",
      "Joe's Head 2qk9voo8llSGYcZ6xrBzKx modern rock\n",
      "3bE5slaVEfaDreqARl6k4M\n",
      "Yellow Ledbetter 1w5Kfo2jwwIPruYS2UWh56 alternative rock\n",
      "2JAECj9kBYQHb8AqJ2rsxt\n",
      "Walk On the Ocean 4j7EVY3kuDwLPfD2jfC7LC alternative rock\n",
      "1BwhFXqoIsePt21WyWIttb\n",
      "I Wanna Get Better 2eam0iDomRHGBypaDQLwWI indie pop\n",
      "2WC9lgtfcApmuCqrNV6Nov\n",
      "Pickup Truck 2qk9voo8llSGYcZ6xrBzKx modern rock\n",
      "4ZVZBc5xvMyV3WzWktn8i7\n",
      "Everyday People 5m8H6zSadhu1j9Yi04VLqD classic rock\n",
      "4aX4Oycsk1fhHIee1zqsDe\n",
      "How To Love 55Aa2cqylxrFIXC767Z865 hip hop\n"
     ]
    }
   ],
   "source": [
    "playlists =sp.user_playlists(username)['items']\n",
    "ijusthadsexid = '5PEleSkK4p4E1sx3x7cOLt'\n",
    "ijusthadsexid_length = sp.track(ijusthadsexid)['duration_ms'] / 1000\n",
    "\n",
    "studlength = input(\"How many minutes can you last: \")\n",
    "studlength = int(studlength)\n",
    "studlength_seconds = studlength * 60\n",
    "sexytimeplaylistid = ''\n",
    "for playlist in playlists:\n",
    "    if playlist['name'] == 'sexy time':\n",
    "        sexytimeplaylistid = playlist['uri']\n",
    "\n",
    "if sexytimeplaylistid == '':\n",
    "    sexytimeplaylistid = sp.user_playlist_create(user=username, name ='sexy time',public = False,description = \"Give it to her good\")['id']\n",
    "        \n",
    "\n",
    "exclude_genres = ['east coast hip hop','movie tunes','folk punk','healing']\n",
    "sexytimetracks = sp.playlist_tracks(sexytimeplaylistid)['items']\n",
    "tracklength = {}\n",
    "toptracks = sp.current_user_top_tracks(limit=50)['items']\n",
    "for track in sexytimetracks:\n",
    "    if track['track']['id'] != '5PEleSkK4p4E1sx3x7cOLt':\n",
    "        tracklength[track['track']['id']] = track['track']['duration_ms'] / 1000\n",
    "        \n",
    "for track2 in toptracks:\n",
    "    \n",
    "    if track2['id'] != '5PEleSkK4p4E1sx3x7cOLt':\n",
    "        tracklength[track2['id']] = track2['duration_ms'] / 1000\n",
    "        \n",
    "for tracks in tracklength.copy():\n",
    "    analysis = sp.audio_analysis(tracks)\n",
    "    tempo = analysis['track']['tempo']\n",
    "    name = sp.track(tracks)['name']\n",
    "    artist = sp.track(tracks)['artists'][0]['id']\n",
    "    try:\n",
    "        genre = sp.artist(artist)['genres'][0]\n",
    "    except:\n",
    "        genre = ''\n",
    "    if (genre in exclude_genres) or tempo > 100:\n",
    "        print(tracks)\n",
    "        print(name,artist,genre)\n",
    "        del tracklength[tracks]\n",
    "#     features = sp.audio_features(tracks)\n",
    "    \n",
    "#     if tempo > 100:\n",
    "#         del tracklength[tracks]"
   ]
  },
  {
   "cell_type": "code",
   "execution_count": 55,
   "metadata": {},
   "outputs": [
    {
     "data": {
      "text/plain": [
       "{'3PzsbWSQdLCKDLxn7YZfkM': 155.88,\n",
       " '1Dr1fXbc2IxaK1Mu8P8Khz': 178.0,\n",
       " '7FOJvA3PxiIU0DN3JjQ7jT': 241.16,\n",
       " '3Uvx1TO0Kg5HgGPk58lHXv': 253.413,\n",
       " '3r5QNhXZ6RtCXmIpOCjVJ8': 339.306,\n",
       " '50uac8ndhYxYMX5VS4GT7q': 190.262,\n",
       " '58MDm6l6mI4hGaRqNezOnu': 204.733,\n",
       " '7eZyj92v6bZsoQ85MxWZsO': 354.36,\n",
       " '6eT7xZZlB2mwyzJ2sUKG6w': 256.533,\n",
       " '2WfUJTyZ2Nkw1iCU2tHOJZ': 389.2,\n",
       " '1W02KkFerpTBP29RKIt2c4': 296.933,\n",
       " '6AZg0e6Hq9s8a10jnQC8PS': 225.746,\n",
       " '6PGoSes0D9eUDeeAafB2As': 213.4,\n",
       " '1RUTIdTnFs8lHSc0Zr4UJB': 227.346,\n",
       " '6jMbPsH6lTOLs5n8Af26AG': 159.293,\n",
       " '0GhaXeVOB6qeKWFlrt5K4t': 203.066,\n",
       " '5RjbFGeWVsCpw8EcE8OrvZ': 333.293,\n",
       " '4wNIkl5XGiAACjFBlDWuSd': 180.644,\n",
       " '54K7AZoGpQklpygKrxZlKN': 222.146,\n",
       " '7LPOuXrEmopus1xZDfGljy': 256.6,\n",
       " '6iG7IQz58E3syk9B6TxkgG': 266.093,\n",
       " '1jYiIOC5d6soxkJP81fxq2': 288.876,\n",
       " '70gbuMqwNBE2Y5rkQJE9By': 212.16,\n",
       " '396oLs4Mt8k45Lv5aD6EF3': 271.173,\n",
       " '7By7UYWA21PcKoKCl8ZaI7': 300.933,\n",
       " '1zB4vmk8tFRmM9UULNzbLB': 187.146,\n",
       " '3EqGwF2GtVE8YExX0nWDcK': 197.093,\n",
       " '2m1hi0nfMR9vdGC8UcrnwU': 167.066,\n",
       " '1jvoeTYt8usIxGWQUSzEyz': 225.333,\n",
       " '58LflM1owDAzQkYIL7ayCX': 240.0,\n",
       " '1TPDQdaZRk0xyV8hdN3poa': 247.173,\n",
       " '5UwGMbEKlvXFj7DXI1d0P1': 195.16,\n",
       " '10Q26DXQAlvQlnKRdZJgec': 359.613,\n",
       " '0h2eP1Lv0WmWzNba6l9GnC': 259.933,\n",
       " '2tJlASUdstRCCecAN9rThS': 202.426,\n",
       " '6pfgRF6cCudEYBqFGRPzFP': 304.133,\n",
       " '1dr8WENPLdPpcLVzyDXLNn': 201.333,\n",
       " '3bE5slaVEfaDreqARl6k4M': 303.586,\n",
       " '2JAECj9kBYQHb8AqJ2rsxt': 178.773,\n",
       " '1BwhFXqoIsePt21WyWIttb': 204.52,\n",
       " '2WC9lgtfcApmuCqrNV6Nov': 284.6,\n",
       " '4ZVZBc5xvMyV3WzWktn8i7': 141.506,\n",
       " '4aX4Oycsk1fhHIee1zqsDe': 240.306}"
      ]
     },
     "execution_count": 55,
     "metadata": {},
     "output_type": "execute_result"
    }
   ],
   "source": [
    "tracklength"
   ]
  },
  {
   "cell_type": "code",
   "execution_count": 48,
   "metadata": {},
   "outputs": [
    {
     "data": {
      "text/plain": [
       "\"Slippin'\""
      ]
     },
     "execution_count": 48,
     "metadata": {},
     "output_type": "execute_result"
    }
   ],
   "source": [
    "    \n",
    "# for tracks in tracklength.copy():\n",
    "#     artist = sp.track(tracks)['artists'][0]['id']\n",
    "#     print(artist)\n",
    "#     try:\n",
    "#         genre = sp.artist(artist)['genres'][0]\n",
    "#     except:\n",
    "#         genre = ''\n",
    "#     print(genre)\n",
    "# sp.audio_analysis('740gNyGWKk98gy8nJLhHrv')\n",
    "# toptracks[0]['name']\n",
    "# artist = toptracks[0]['artists'][0]['id']\n",
    "# sp.artist(artist)['genres'][0]\n",
    "\n",
    "\n",
    "sp.track('740gNyGWKk98gy8nJLhHrv')['name']"
   ]
  },
  {
   "cell_type": "code",
   "execution_count": 38,
   "metadata": {},
   "outputs": [
    {
     "data": {
      "text/plain": [
       "{'external_urls': {'spotify': 'https://open.spotify.com/artist/11QKTxjqZm5sGnumdFiU9O'},\n",
       " 'followers': {'href': None, 'total': 764},\n",
       " 'genres': [],\n",
       " 'href': 'https://api.spotify.com/v1/artists/11QKTxjqZm5sGnumdFiU9O',\n",
       " 'id': '11QKTxjqZm5sGnumdFiU9O',\n",
       " 'images': [{'height': 640,\n",
       "   'url': 'https://i.scdn.co/image/ab67616d0000b2735af8c61a98927d1e6773d032',\n",
       "   'width': 640},\n",
       "  {'height': 300,\n",
       "   'url': 'https://i.scdn.co/image/ab67616d00001e025af8c61a98927d1e6773d032',\n",
       "   'width': 300},\n",
       "  {'height': 64,\n",
       "   'url': 'https://i.scdn.co/image/ab67616d000048515af8c61a98927d1e6773d032',\n",
       "   'width': 64}],\n",
       " 'name': 'The Chuck Mangione Quartet',\n",
       " 'popularity': 16,\n",
       " 'type': 'artist',\n",
       " 'uri': 'spotify:artist:11QKTxjqZm5sGnumdFiU9O'}"
      ]
     },
     "execution_count": 38,
     "metadata": {},
     "output_type": "execute_result"
    }
   ],
   "source": [
    "sp.artist('11QKTxjqZm5sGnumdFiU9O')"
   ]
  },
  {
   "cell_type": "code",
   "execution_count": 3,
   "metadata": {},
   "outputs": [],
   "source": [
    "tracklengths = list(tracklength.values())\n",
    "average_track_length = sum(tracklengths) / len(tracklengths)\n",
    "numberofsongsneeded = round(studlength_seconds / average_track_length)\n",
    "\n",
    "def find_closest_sum(numbers, target, n):\n",
    "    permlist = list(map(dict, itertools.combinations(numbers.items(), n)))\n",
    "    sumlist = [sum(l.values()) for l in permlist]    \n",
    "    maxpos = 0\n",
    "    for i in range(1, len(sumlist)):\n",
    "        if abs(sumlist[i] - target) < abs(sumlist[maxpos]-target):\n",
    "             maxpos = i\n",
    "    return permlist[maxpos]\n",
    "\n",
    "result_shown = find_closest_sum(tracklength, studlength_seconds, numberofsongsneeded)\n",
    "trackstoadd = list(result_shown.keys())"
   ]
  },
  {
   "cell_type": "code",
   "execution_count": 4,
   "metadata": {},
   "outputs": [
    {
     "data": {
      "text/plain": [
       "{'snapshot_id': 'NCw3NDcwNmNkMDY3NDgwN2UzNDY3ZWZmNjdiOGE3YTA4MzM4Mzg1YmY4'}"
      ]
     },
     "execution_count": 4,
     "metadata": {},
     "output_type": "execute_result"
    }
   ],
   "source": [
    "sexytimetracks = sp.playlist_tracks(sexytimeplaylistid)['items']\n",
    "deletelist = []\n",
    "for x in sexytimetracks:\n",
    "    deletelist.append(x['track']['id'])\n",
    "    sp.user_playlist_remove_all_occurrences_of_tracks(username,sexytimeplaylistid,deletelist)   \n",
    "\n",
    "sp.user_playlist_add_tracks(user = username, playlist_id =sexytimeplaylistid,tracks = [ijusthadsexid],position = 0 )\n",
    "sp.user_playlist_add_tracks(user = username, playlist_id =sexytimeplaylistid,tracks = trackstoadd,position = 0 )"
   ]
  }
 ],
 "metadata": {
  "kernelspec": {
   "display_name": "Python 3",
   "language": "python",
   "name": "python3"
  },
  "language_info": {
   "codemirror_mode": {
    "name": "ipython",
    "version": 3
   },
   "file_extension": ".py",
   "mimetype": "text/x-python",
   "name": "python",
   "nbconvert_exporter": "python",
   "pygments_lexer": "ipython3",
   "version": "3.7.6"
  }
 },
 "nbformat": 4,
 "nbformat_minor": 4
}
