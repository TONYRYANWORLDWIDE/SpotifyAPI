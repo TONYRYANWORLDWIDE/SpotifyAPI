{
 "cells": [
  {
   "cell_type": "code",
   "execution_count": 1,
   "metadata": {},
   "outputs": [],
   "source": [
    "import os\n",
    "import spotipy\n",
    "import spotipy.util as util\n",
    "from spotipy.oauth2 import SpotifyOAuth\n",
    "import itertools\n",
    "from itertools import combinations\n",
    "\n",
    "\n",
    "client_id = SPOTIPY_CLIENT_ID ='bb7c475418484e7784d9cd25b5f9f52c'\n",
    "client_secret = SPOTIPY_CLIENT_SECRET='b0da0baeeab1499884912aea11f4ca58'\n",
    "redirect_uri =SPOTIPY_REDIRECT_URI='https://localhost:8080/callback/'\n",
    "\n",
    "\n",
    "os.environ[\"SPOTIPY_CLIENT_ID\"] = \"bb7c475418484e7784d9cd25b5f9f52c\"\n",
    "os.environ[\"SPOTIPY_CLIENT_SECRET\"] = \"b0da0baeeab1499884912aea11f4ca58\"\n",
    "os.environ[\"SPOTIPY_REDIRECT_URI\"] = \"https://localhost:8080/callback/\"\n",
    "\n",
    "scope = \"playlist-modify-public playlist-modify-private user-modify-playback-state user-top-read\"\n",
    "scope +=            \" user-modify-playback-state user-read-playback-state user-library-read user-library-modify\"\n",
    "# username = '1238315340'\n",
    "username ='tonyryanworldwide'\n",
    "\n",
    "        \n",
    "token = util.prompt_for_user_token(username, scope, client_id, client_secret, redirect_uri)        \n",
    "sp = spotipy.Spotify(auth_manager=SpotifyOAuth(scope=scope,username=username))\n"
   ]
  },
  {
   "cell_type": "code",
   "execution_count": null,
   "metadata": {},
   "outputs": [],
   "source": [
    "playlists =sp.user_playlists(username)['items']\n",
    "ijusthadsexid = '5PEleSkK4p4E1sx3x7cOLt'\n",
    "ijusthadsexid_length = sp.track(ijusthadsexid)['duration_ms'] / 1000\n",
    "\n",
    "studlength = input(\"How many minutes can you last: \")\n",
    "studlength = int(studlength)\n",
    "studlength_seconds = studlength * 60\n",
    "sexytimeplaylistid = ''\n",
    "for playlist in playlists:\n",
    "    if playlist['name'] == 'sexy time':\n",
    "        sexytimeplaylistid = playlist['uri']"
   ]
  },
  {
   "cell_type": "code",
   "execution_count": null,
   "metadata": {},
   "outputs": [],
   "source": [
    "if sexytimeplaylistid == '':\n",
    "    sexytimeplaylistid = sp.user_playlist_create(user=username, name ='sexy time',public = False,description = \"Give it to her good\")['id']\n",
    "        \n",
    "\n",
    "exclude_genres = ['east coast hip hop','movie tunes','folk punk','healing']\n",
    "sexytimetracks = sp.playlist_tracks(sexytimeplaylistid)['items']\n",
    "tracklength = {}\n",
    "toptracks = sp.current_user_top_tracks(limit=50)['items']\n",
    "for track in sexytimetracks:\n",
    "    if track['track']['id'] != '5PEleSkK4p4E1sx3x7cOLt':\n",
    "        tracklength[track['track']['id']] = track['track']['duration_ms'] / 1000"
   ]
  },
  {
   "cell_type": "code",
   "execution_count": null,
   "metadata": {},
   "outputs": [],
   "source": [
    "for track2 in toptracks:\n",
    "    \n",
    "    if track2['id'] != '5PEleSkK4p4E1sx3x7cOLt':\n",
    "        tracklength[track2['id']] = track2['duration_ms'] / 1000"
   ]
  },
  {
   "cell_type": "code",
   "execution_count": 6,
   "metadata": {},
   "outputs": [],
   "source": [
    "\n",
    "for tracks in tracklength.copy():\n",
    "    \n",
    "    analysis = sp.audio_analysis(tracks)\n",
    "    tempo = analysis['track']['tempo']\n",
    "\n",
    "\n",
    "    tr = sp.track(tracks)\n",
    "    name = tr['name']   \n",
    "    artist = tr['artists'][0]['id']\n",
    "#     try:\n",
    "#         genre = sp.artist(artist)['genres'][0]\n",
    "#     except:\n",
    "#         genre = ''\n",
    "#     if (genre in exclude_genres) or tempo > 100:\n",
    "#         del tracklength[tracks]"
   ]
  },
  {
   "cell_type": "code",
   "execution_count": null,
   "metadata": {
    "scrolled": true
   },
   "outputs": [],
   "source": [
    "playlists =sp.user_playlists(username)['items']\n",
    "ijusthadsexid = '5PEleSkK4p4E1sx3x7cOLt'\n",
    "ijusthadsexid_length = sp.track(ijusthadsexid)['duration_ms'] / 1000\n",
    "\n",
    "studlength = input(\"How many minutes can you last: \")\n",
    "studlength = int(studlength)\n",
    "studlength_seconds = studlength * 60\n",
    "sexytimeplaylistid = ''\n",
    "for playlist in playlists:\n",
    "    if playlist['name'] == 'sexy time':\n",
    "        sexytimeplaylistid = playlist['uri']\n",
    "\n",
    "if sexytimeplaylistid == '':\n",
    "    sexytimeplaylistid = sp.user_playlist_create(user=username, name ='sexy time',public = False,description = \"Give it to her good\")['id']\n",
    "        \n",
    "\n",
    "exclude_genres = ['east coast hip hop','movie tunes','folk punk','healing']\n",
    "sexytimetracks = sp.playlist_tracks(sexytimeplaylistid)['items']\n",
    "tracklength = {}\n",
    "toptracks = sp.current_user_top_tracks(limit=50)['items']\n",
    "for track in sexytimetracks:\n",
    "    if track['track']['id'] != '5PEleSkK4p4E1sx3x7cOLt':\n",
    "        tracklength[track['track']['id']] = track['track']['duration_ms'] / 1000\n",
    "        \n",
    "for track2 in toptracks:\n",
    "    \n",
    "    if track2['id'] != '5PEleSkK4p4E1sx3x7cOLt':\n",
    "        tracklength[track2['id']] = track2['duration_ms'] / 1000\n",
    "        \n",
    "for tracks in tracklength.copy():\n",
    "    analysis = sp.audio_analysis(tracks)\n",
    "    tempo = analysis['track']['tempo']\n",
    "    tr = sp.track(tracks)\n",
    "    name = tr['name']   \n",
    "    artist = tr['artists'][0]['id']\n",
    "    try:\n",
    "        genre = sp.artist(artist)['genres'][0]\n",
    "    except:\n",
    "        genre = ''\n",
    "    if (genre in exclude_genres) or tempo > 100:\n",
    "        del tracklength[tracks]"
   ]
  },
  {
   "cell_type": "code",
   "execution_count": null,
   "metadata": {},
   "outputs": [],
   "source": [
    "tracklength['7By7UYWA21PcKoKCl8ZaI7']"
   ]
  },
  {
   "cell_type": "code",
   "execution_count": null,
   "metadata": {},
   "outputs": [],
   "source": [
    "tracklengths = list(tracklength.values())\n",
    "average_track_length = sum(tracklengths) / len(tracklengths)\n",
    "numberofsongsneeded = round(studlength_seconds / average_track_length)\n",
    "\n",
    "def find_closest_sum(numbers, target, n):\n",
    "    permlist = list(map(dict, itertools.combinations(numbers.items(), n)))\n",
    "    sumlist = [sum(l.values()) for l in permlist]    \n",
    "    maxpos = 0\n",
    "    for i in range(1, len(sumlist)):\n",
    "        if abs(sumlist[i] - target) < abs(sumlist[maxpos]-target):\n",
    "             maxpos = i\n",
    "    return permlist[maxpos]\n",
    "\n",
    "result_shown = find_closest_sum(tracklength, studlength_seconds, numberofsongsneeded)\n",
    "trackstoadd = list(result_shown.keys())"
   ]
  },
  {
   "cell_type": "code",
   "execution_count": null,
   "metadata": {},
   "outputs": [],
   "source": [
    "sexytimetracks = sp.playlist_tracks(sexytimeplaylistid)['items']\n",
    "deletelist = []\n",
    "for x in sexytimetracks:\n",
    "    deletelist.append(x['track']['id'])\n",
    "    sp.user_playlist_remove_all_occurrences_of_tracks(username,sexytimeplaylistid,deletelist)   \n",
    "\n",
    "sp.user_playlist_add_tracks(user = username, playlist_id =sexytimeplaylistid,tracks = [ijusthadsexid],position = 0 )\n",
    "sp.user_playlist_add_tracks(user = username, playlist_id =sexytimeplaylistid,tracks = trackstoadd,position = 0 )"
   ]
  }
 ],
 "metadata": {
  "kernelspec": {
   "display_name": "Python 3",
   "language": "python",
   "name": "python3"
  },
  "language_info": {
   "codemirror_mode": {
    "name": "ipython",
    "version": 3
   },
   "file_extension": ".py",
   "mimetype": "text/x-python",
   "name": "python",
   "nbconvert_exporter": "python",
   "pygments_lexer": "ipython3",
   "version": "3.7.6"
  }
 },
 "nbformat": 4,
 "nbformat_minor": 4
}
