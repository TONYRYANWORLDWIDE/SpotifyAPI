{
 "cells": [
  {
   "cell_type": "code",
   "execution_count": null,
   "metadata": {},
   "outputs": [],
   "source": [
    "import os\n",
    "import spotipy\n",
    "import spotipy.util as util\n",
    "from spotipy.oauth2 import SpotifyOAuth\n",
    "client_id = SPOTIPY_CLIENT_ID ='bb7c475418484e7784d9cd25b5f9f52c'\n",
    "client_secret = SPOTIPY_CLIENT_SECRET='b0da0baeeab1499884912aea11f4ca58'\n",
    "redirect_uri =SPOTIPY_REDIRECT_URI='https://localhost:8080/callback/'\n",
    "\n",
    "\n",
    "os.environ[\"SPOTIPY_CLIENT_ID\"] = \"bb7c475418484e7784d9cd25b5f9f52c\"\n",
    "os.environ[\"SPOTIPY_CLIENT_SECRET\"] = \"b0da0baeeab1499884912aea11f4ca58\"\n",
    "os.environ[\"SPOTIPY_REDIRECT_URI\"] = \"https://localhost:8080/callback/\"\n",
    "\n",
    "scope = \"playlist-modify-public playlist-modify-private user-modify-playback-state user-top-read\"\n",
    "scope +=            \" user-modify-playback-state user-read-playback-state user-library-read user-library-modify\"\n",
    "username = 'tonyryanworldwide'\n",
    "\n",
    "        \n",
    "token = util.prompt_for_user_token(username, scope, client_id, client_secret, redirect_uri)        \n",
    "sp = spotipy.Spotify(auth_manager=SpotifyOAuth(scope=scope,username=username))\n"
   ]
  },
  {
   "cell_type": "code",
   "execution_count": 2,
   "metadata": {},
   "outputs": [],
   "source": [
    "import pandas as pd\n",
    "from pandas import DataFrame\n",
    "total = sp.current_user_saved_tracks()['total']\n",
    "offset = 50\n",
    "savedtracks = sp.current_user_saved_tracks(limit = 50)['items']\n",
    "while offset < total:\n",
    "    \n",
    "    savedtracks2 =sp.current_user_saved_tracks(limit = 50,offset=offset)['items']\n",
    "    for track in savedtracks2:\n",
    "        savedtracks.append(track)\n",
    "    offset += 50\n",
    "\n",
    "    \n",
    "trackinfo ={}   \n",
    "for trackex in savedtracks:\n",
    "    id = trackex['track']['id']\n",
    "    name = trackex['track']['name']\n",
    "    artistid = trackex['track']['artists'][0]['id']\n",
    "    seconds = trackex['track']['duration_ms']/1000\n",
    "    trackinfo[trackex['track']['id']] = {\"artist\" : artistid,\"name\":name,\"seconds\":seconds}\n",
    "    \n",
    "trackdf = pd.DataFrame.from_dict(trackinfo,orient = \"index\").reset_index()\n",
    "artists = trackdf.artist.unique()\n",
    "trackdf.columns = ['trackid','artistid','trackname','tracklength_sec']\n",
    "\n",
    "artistinfo = []\n",
    "i = 0\n",
    "while i < len(artists) - 50:\n",
    "    x=sp.artists(artists[i:i+50])['artists']\n",
    "    artistinfo.append(x)\n",
    "    i+=50\n",
    "artistfinal ={}\n",
    "for i in artistinfo:\n",
    "    for j in i:   \n",
    "        id = j['id']\n",
    "        name = j['name']\n",
    "        if len(j['genres']) > 0:\n",
    "            genre = j['genres']#[0]\n",
    "        else:\n",
    "            genre = ''\n",
    "        artistfinal[id] = {\"name\":name,\"genre\": genre}          \n",
    "artistdf = pd.DataFrame.from_dict(artistfinal,orient = \"index\").reset_index()\n",
    "artistdf = artistdf.reset_index()[['index','name','genre']]\n",
    "artistdf.columns = ['artistid','artistname','genre']\n",
    "artistdf =artistdf[artistdf['genre']!=''].reset_index()[['artistid','artistname','genre']]"
   ]
  },
  {
   "cell_type": "code",
   "execution_count": 3,
   "metadata": {},
   "outputs": [],
   "source": [
    "column_names = [\"artistid\", \"artistname\", \"genre\"]\n",
    "\n",
    "finalartist = pd.DataFrame(columns = column_names)\n",
    "\n",
    "for i in range(0, len(artistdf)):\n",
    "    df = artistdf[i:i+1][['artistid','artistname']]\n",
    "#     print(i)\n",
    "#     print(df)\n",
    "    genres = artistdf[i:i+1]['genre'][i]\n",
    "    gf= DataFrame(genres,columns=['genre'])\n",
    "    product = (\n",
    "    df.assign(key=1)\n",
    "    .merge(gf.assign(key=1), on=\"key\")\n",
    "    .drop(\"key\", axis=1)\n",
    "    )\n",
    "    finalartist = finalartist.append(product)\n",
    "    "
   ]
  },
  {
   "cell_type": "code",
   "execution_count": 4,
   "metadata": {},
   "outputs": [],
   "source": [
    "finaltrackinfo = trackdf.merge(finalartist, left_on = 'artistid', right_on = 'artistid', how = 'inner' )\n",
    "finaltrackinfo['cum_sec'] = finaltrackinfo.groupby('genre')['tracklength_sec'].apply(lambda x: x.cumsum())"
   ]
  },
  {
   "cell_type": "code",
   "execution_count": 5,
   "metadata": {},
   "outputs": [],
   "source": [
    "genres = finaltrackinfo.groupby('genre').count().reset_index()[['genre','artistid']]\n",
    "genres.columns=['genre','count']\n",
    "genres = genres[(genres['count'] >= 50) & (genres['genre']!= '')].sort_values(by ='count', ascending = False)\n",
    "genrelist = genres['genre'].tolist()\n",
    "finaltrackinfo = finaltrackinfo[finaltrackinfo['genre'].isin(genres['genre'])]"
   ]
  },
  {
   "cell_type": "code",
   "execution_count": 6,
   "metadata": {},
   "outputs": [],
   "source": [
    "def genrefilter(df,gen,sec_lim):\n",
    "    dfin = df['trackid'][(df['genre'] == gen) & (df['cum_sec'] <= sec_lim)]\n",
    "    return dfin.tolist()[0:100]\n",
    "\n"
   ]
  },
  {
   "cell_type": "code",
   "execution_count": 13,
   "metadata": {},
   "outputs": [],
   "source": [
    "for gen in genrelist:\n",
    "    id = sp.user_playlist_create(user=username,name =gen)['id']\n",
    "    tracks = genrefilter(finaltrackinfo,gen,7200)\n",
    "    sp.user_playlist_add_tracks(user = username, playlist_id =id,tracks = tracks,position = 0)"
   ]
  },
  {
   "cell_type": "markdown",
   "metadata": {},
   "source": [
    "## For Debugging Delete CreatedPlaylists"
   ]
  },
  {
   "cell_type": "code",
   "execution_count": 12,
   "metadata": {},
   "outputs": [],
   "source": [
    "\n",
    "playlists =sp.current_user_playlists(offset=0)['items']\n",
    "for playlist in playlists:\n",
    "    name= playlist['name']\n",
    "    id = playlist['uri'][-22:]\n",
    "    if name in genrelist:\n",
    "        sp.user_playlist_unfollow(user=username, playlist_id = id)"
   ]
  }
 ],
 "metadata": {
  "kernelspec": {
   "display_name": "Python 3",
   "language": "python",
   "name": "python3"
  },
  "language_info": {
   "codemirror_mode": {
    "name": "ipython",
    "version": 3
   },
   "file_extension": ".py",
   "mimetype": "text/x-python",
   "name": "python",
   "nbconvert_exporter": "python",
   "pygments_lexer": "ipython3",
   "version": "3.7.6"
  }
 },
 "nbformat": 4,
 "nbformat_minor": 4
}
