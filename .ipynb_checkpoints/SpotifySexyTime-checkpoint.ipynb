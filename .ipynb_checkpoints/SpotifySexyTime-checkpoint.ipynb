{
 "cells": [
  {
   "cell_type": "code",
   "execution_count": 2,
   "metadata": {},
   "outputs": [],
   "source": [
    "import os\n",
    "import spotipy\n",
    "import spotipy.util as util\n",
    "from spotipy.oauth2 import SpotifyOAuth\n",
    "client_id = SPOTIPY_CLIENT_ID ='bb7c475418484e7784d9cd25b5f9f52c'\n",
    "client_secret = SPOTIPY_CLIENT_SECRET='b0da0baeeab1499884912aea11f4ca58'\n",
    "redirect_uri =SPOTIPY_REDIRECT_URI='https://localhost:8080/callback/'\n",
    "\n",
    "\n",
    "os.environ[\"SPOTIPY_CLIENT_ID\"] = \"bb7c475418484e7784d9cd25b5f9f52c\"\n",
    "os.environ[\"SPOTIPY_CLIENT_SECRET\"] = \"b0da0baeeab1499884912aea11f4ca58\"\n",
    "os.environ[\"SPOTIPY_REDIRECT_URI\"] = \"https://localhost:8080/callback/\"\n",
    "\n",
    "scope = \"playlist-modify-public playlist-modify-private user-modify-playback-state user-top-read\"\n",
    "username = 'tonyryanworldwide'\n",
    "\n",
    "        \n",
    "token = util.prompt_for_user_token(username, scope, client_id, client_secret, redirect_uri)        \n",
    "sp = spotipy.Spotify(auth_manager=SpotifyOAuth(scope=scope,username=username,))\n"
   ]
  },
  {
   "cell_type": "code",
   "execution_count": 73,
   "metadata": {},
   "outputs": [
    {
     "name": "stdout",
     "output_type": "stream",
     "text": [
      "How many minutes can you last: 25\n",
      "add 803.8800000000001 more seconds\n",
      "803.8800000000001\n",
      "6.428000000000111\n"
     ]
    }
   ],
   "source": [
    "import json\n",
    "\n",
    "playlists =sp.user_playlists(username)['items']\n",
    "ijusthadsexid = '5PEleSkK4p4E1sx3x7cOLt'\n",
    "\n",
    "studlength = input(\"How many minutes can you last: \")\n",
    "studlength = int(studlength)\n",
    "studlength_seconds = studlength * 60\n",
    "\n",
    "for playlist in playlists:\n",
    "    if playlist['name'] == 'sexy time':\n",
    "        sexytimeplaylistid = playlist['uri']\n",
    "\n",
    "sexytimetracks = sp.playlist_tracks(sexytimeplaylistid)['items']\n",
    "sexytimetracks_ids = []\n",
    "\n",
    "current_duration_seconds = 0\n",
    "for track in sexytimetracks:\n",
    "    current_duration_seconds += (track['track']['duration_ms'])/1000\n",
    "    sexytimetracks_ids.append(track['track']['id'])\n",
    "\n",
    "if current_duration_seconds < studlength_seconds:\n",
    "    difference = studlength_seconds - current_duration_seconds\n",
    "    print(\"add {0} more seconds\".format(str(difference)))\n",
    "    \n",
    "toptracks = sp.current_user_top_tracks(limit=10)['items']\n",
    "id = []\n",
    "idlength = 0\n",
    "while difference > 0:\n",
    "    print (difference)\n",
    "    for tracks in toptracks:   \n",
    "        name = tracks['name']\n",
    "        analysis = sp.audio_analysis(tracks['id'])\n",
    "        tempo = analysis['track']['tempo']\n",
    "        duration = tracks['duration_ms'] / 1000\n",
    "        trackid = [tracks['id']]\n",
    "        if (sexytimetracks_ids.count(tracks['id']) == 0):\n",
    "            if tempo < 100:\n",
    "                sp.user_playlist_add_tracks(user = username, playlist_id =sexytimeplaylistid,tracks = trackid,position = 0 )\n",
    "                difference = difference - duration\n",
    "                if difference < 0:\n",
    "                    break  \n",
    "\n"
   ]
  }
 ],
 "metadata": {
  "kernelspec": {
   "display_name": "Python 3",
   "language": "python",
   "name": "python3"
  },
  "language_info": {
   "codemirror_mode": {
    "name": "ipython",
    "version": 3
   },
   "file_extension": ".py",
   "mimetype": "text/x-python",
   "name": "python",
   "nbconvert_exporter": "python",
   "pygments_lexer": "ipython3",
   "version": "3.7.6"
  }
 },
 "nbformat": 4,
 "nbformat_minor": 4
}
