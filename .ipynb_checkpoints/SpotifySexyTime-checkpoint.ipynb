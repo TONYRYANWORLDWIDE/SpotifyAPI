{
 "cells": [
  {
   "cell_type": "code",
   "execution_count": 1,
   "metadata": {},
   "outputs": [
    {
     "name": "stdout",
     "output_type": "stream",
     "text": [
      "Enter the URL you were redirected to: https://localhost:8080/callback/?code=AQAoFTa0R5ckN4HanbUw12wHrET3oyHYnJAWgDq97qokLdk6G2mxzjVHT2F1YrSYAcEeoNsqAnkK_CO1aZAfdoGFITdrmwOegwFRidwqcmrltt2I8dW9DwymDVvXEqzns3VFBu4jqvK1XS0Q9PElQaMf5IVz1naxzMHqpyoaFe8LTrHP7_Ie45rT3c6t_7-mc1WWr5Pj9jnmVduw3Iz5_tbn4Q2csz2FzeU_Yh-dNNInfn5KisiU-8hEyqZGHOZwpvCuhOh2B4XP80CsiV9i5jBPh4Y7Cwu99xP4IgssBNMa3A5WkM1ox4kTSaBIDV9tABkClOJdU8rG1iSCo654MdoHTiLctidi7krBqu9MSjizeJCMntw2SdeklzN7WFolrF4\n"
     ]
    }
   ],
   "source": [
    "import os\n",
    "import spotipy\n",
    "import spotipy.util as util\n",
    "from spotipy.oauth2 import SpotifyOAuth\n",
    "import itertools\n",
    "from itertools import combinations\n",
    "\n",
    "\n",
    "client_id = SPOTIPY_CLIENT_ID ='bb7c475418484e7784d9cd25b5f9f52c'\n",
    "client_secret = SPOTIPY_CLIENT_SECRET='b0da0baeeab1499884912aea11f4ca58'\n",
    "redirect_uri =SPOTIPY_REDIRECT_URI='https://localhost:8080/callback/'\n",
    "\n",
    "\n",
    "os.environ[\"SPOTIPY_CLIENT_ID\"] = \"bb7c475418484e7784d9cd25b5f9f52c\"\n",
    "os.environ[\"SPOTIPY_CLIENT_SECRET\"] = \"b0da0baeeab1499884912aea11f4ca58\"\n",
    "os.environ[\"SPOTIPY_REDIRECT_URI\"] = \"https://localhost:8080/callback/\"\n",
    "\n",
    "scope = \"playlist-modify-public playlist-modify-private user-modify-playback-state user-top-read\"\n",
    "scope +=            \" user-modify-playback-state user-read-playback-state user-library-read user-library-modify\"\n",
    "# username = '1238315340'\n",
    "username ='tonyryanworldwide'\n",
    "\n",
    "        \n",
    "token = util.prompt_for_user_token(username, scope, client_id, client_secret, redirect_uri)        \n",
    "sp = spotipy.Spotify(auth_manager=SpotifyOAuth(scope=scope,username=username))\n"
   ]
  },
  {
   "cell_type": "code",
   "execution_count": null,
   "metadata": {},
   "outputs": [],
   "source": []
  },
  {
   "cell_type": "code",
   "execution_count": 2,
   "metadata": {},
   "outputs": [
    {
     "name": "stdout",
     "output_type": "stream",
     "text": [
      "How many minutes can you last: 20\n"
     ]
    }
   ],
   "source": [
    "playlists =sp.user_playlists(username)['items']\n",
    "ijusthadsexid = '5PEleSkK4p4E1sx3x7cOLt'\n",
    "ijusthadsexid_length = sp.track(ijusthadsexid)['duration_ms'] / 1000\n",
    "\n",
    "studlength = input(\"How many minutes can you last: \")\n",
    "studlength = int(studlength)\n",
    "studlength_seconds = studlength * 60\n",
    "sexytimeplaylistid = ''\n",
    "for playlist in playlists:\n",
    "    if playlist['name'] == 'sexy time':\n",
    "        sexytimeplaylistid = playlist['uri']\n",
    "\n",
    "if sexytimeplaylistid == '':\n",
    "    sexytimeplaylistid = sp.user_playlist_create(user=username, name ='sexy time',public = False,description = \"Give it to her good\")['id']\n",
    "        \n",
    "\n",
    "\n",
    "sexytimetracks = sp.playlist_tracks(sexytimeplaylistid)['items']\n",
    "tracklength = {}\n",
    "toptracks = sp.current_user_top_tracks(limit=50)['items']\n",
    "for track in sexytimetracks:\n",
    "    if track['track']['id'] != '5PEleSkK4p4E1sx3x7cOLt':\n",
    "        tracklength[track['track']['id']] = track['track']['duration_ms'] / 1000\n",
    "        \n",
    "for track2 in toptracks:\n",
    "    \n",
    "    if track2['id'] != '5PEleSkK4p4E1sx3x7cOLt':\n",
    "        tracklength[track2['id']] = track2['duration_ms'] / 1000\n",
    "        \n",
    "for tracks in tracklength.copy():\n",
    "    analysis = sp.audio_analysis(tracks)\n",
    "#     features = sp.audio_features(tracks)\n",
    "    tempo = analysis['track']['tempo']\n",
    "    if tempo > 100:\n",
    "        del tracklength[tracks]"
   ]
  },
  {
   "cell_type": "code",
   "execution_count": 3,
   "metadata": {},
   "outputs": [],
   "source": [
    "tracklengths = list(tracklength.values())\n",
    "average_track_length = sum(tracklengths) / len(tracklengths)\n",
    "numberofsongsneeded = round(studlength_seconds / average_track_length)\n",
    "\n",
    "def find_closest_sum(numbers, target, n):\n",
    "    permlist = list(map(dict, itertools.combinations(numbers.items(), n)))\n",
    "    sumlist = [sum(l.values()) for l in permlist]    \n",
    "    maxpos = 0\n",
    "    for i in range(1, len(sumlist)):\n",
    "        if abs(sumlist[i] - target) < abs(sumlist[maxpos]-target):\n",
    "             maxpos = i\n",
    "    return permlist[maxpos]\n",
    "\n",
    "result_shown = find_closest_sum(tracklength, studlength_seconds, numberofsongsneeded)\n",
    "trackstoadd = list(result_shown.keys())"
   ]
  },
  {
   "cell_type": "code",
   "execution_count": 4,
   "metadata": {},
   "outputs": [
    {
     "data": {
      "text/plain": [
       "{'snapshot_id': 'NCw3NDcwNmNkMDY3NDgwN2UzNDY3ZWZmNjdiOGE3YTA4MzM4Mzg1YmY4'}"
      ]
     },
     "execution_count": 4,
     "metadata": {},
     "output_type": "execute_result"
    }
   ],
   "source": [
    "sexytimetracks = sp.playlist_tracks(sexytimeplaylistid)['items']\n",
    "deletelist = []\n",
    "for x in sexytimetracks:\n",
    "    deletelist.append(x['track']['id'])\n",
    "    sp.user_playlist_remove_all_occurrences_of_tracks(username,sexytimeplaylistid,deletelist)   \n",
    "\n",
    "sp.user_playlist_add_tracks(user = username, playlist_id =sexytimeplaylistid,tracks = [ijusthadsexid],position = 0 )\n",
    "sp.user_playlist_add_tracks(user = username, playlist_id =sexytimeplaylistid,tracks = trackstoadd,position = 0 )"
   ]
  }
 ],
 "metadata": {
  "kernelspec": {
   "display_name": "Python 3",
   "language": "python",
   "name": "python3"
  },
  "language_info": {
   "codemirror_mode": {
    "name": "ipython",
    "version": 3
   },
   "file_extension": ".py",
   "mimetype": "text/x-python",
   "name": "python",
   "nbconvert_exporter": "python",
   "pygments_lexer": "ipython3",
   "version": "3.7.6"
  }
 },
 "nbformat": 4,
 "nbformat_minor": 4
}
