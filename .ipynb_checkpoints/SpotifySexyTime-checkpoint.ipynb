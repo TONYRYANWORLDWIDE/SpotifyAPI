{
 "cells": [
  {
   "cell_type": "code",
   "execution_count": 2,
   "metadata": {},
   "outputs": [],
   "source": [
    "import os\n",
    "import spotipy\n",
    "import spotipy.util as util\n",
    "from spotipy.oauth2 import SpotifyOAuth\n",
    "client_id = SPOTIPY_CLIENT_ID ='bb7c475418484e7784d9cd25b5f9f52c'\n",
    "client_secret = SPOTIPY_CLIENT_SECRET='b0da0baeeab1499884912aea11f4ca58'\n",
    "redirect_uri =SPOTIPY_REDIRECT_URI='https://localhost:8080/callback/'\n",
    "\n",
    "\n",
    "os.environ[\"SPOTIPY_CLIENT_ID\"] = \"bb7c475418484e7784d9cd25b5f9f52c\"\n",
    "os.environ[\"SPOTIPY_CLIENT_SECRET\"] = \"b0da0baeeab1499884912aea11f4ca58\"\n",
    "os.environ[\"SPOTIPY_REDIRECT_URI\"] = \"https://localhost:8080/callback/\"\n",
    "\n",
    "scope = \"playlist-modify-public playlist-modify-private user-modify-playback-state user-top-read\"\n",
    "username = 'tonyryanworldwide'\n",
    "\n",
    "\n",
    "\n",
    "\n",
    "\n",
    "        \n",
    "token = util.prompt_for_user_token(username, scope, client_id, client_secret, redirect_uri)        \n",
    "sp = spotipy.Spotify(auth_manager=SpotifyOAuth(scope=scope,username=username,))\n",
    "\n",
    "\n",
    "\n"
   ]
  },
  {
   "cell_type": "code",
   "execution_count": 3,
   "metadata": {},
   "outputs": [
    {
     "data": {
      "text/plain": [
       "<spotipy.client.Spotify at 0x23bf57860c8>"
      ]
     },
     "execution_count": 3,
     "metadata": {},
     "output_type": "execute_result"
    }
   ],
   "source": []
  },
  {
   "cell_type": "code",
   "execution_count": 12,
   "metadata": {},
   "outputs": [
    {
     "name": "stdout",
     "output_type": "stream",
     "text": [
      "How many minutes can you last: 20\n",
      "add 503.8800000000001 more seconds\n",
      "503.8800000000001\n"
     ]
    }
   ],
   "source": [
    "import json\n",
    "# user = sp.user('tonyryanworldwide')\n",
    "# playlists = sp.current_user_playlists(limit=50)['items']\n",
    "playlists =sp.user_playlists(username)['items']\n",
    "ijusthadsexid = '5PEleSkK4p4E1sx3x7cOLt'\n",
    "\n",
    "studlength = input(\"How many minutes can you last: \")\n",
    "studlength = int(studlength)\n",
    "studlength_seconds = studlength * 60\n",
    "# print(studlength_seconds)\n",
    "for playlist in playlists:\n",
    "    if playlist['name'] == 'sexy time':\n",
    "#         print(i)\n",
    "        sexytimeplaylistid = playlist['uri']\n",
    "\n",
    "\n",
    "\n",
    "sexytimetracks = sp.playlist_tracks(sexytimeplaylistid)['items']\n",
    "\n",
    "current_duration_seconds = 0\n",
    "for track in sexytimetracks:\n",
    "    current_duration_seconds += (track['track']['duration_ms'])/1000\n",
    "\n",
    "\n",
    "if current_duration_seconds < studlength_seconds:\n",
    "    difference = studlength_seconds - current_duration_seconds\n",
    "    print(\"add {0} more seconds\".format(str(difference)))\n",
    "    \n",
    "toptracks = sp.current_user_top_tracks(limit=10)['items']\n",
    "id = []\n",
    "idlength = 0\n",
    "while difference > 0:\n",
    "    print (difference)\n",
    "    for tracks in toptracks:   \n",
    "        name = tracks['name']\n",
    "        analysis = sp.audio_analysis(tracks['id'])\n",
    "        tempo =analysis['track']['tempo']\n",
    "        duration = tracks['duration_ms'] / 1000\n",
    "        trackid = [tracks['id']]\n",
    "        if tempo < 100:\n",
    "            sp.user_playlist_add_tracks(user = username, playlist_id =sexytimeplaylistid,tracks = trackid,position = 0 )\n",
    "            difference = difference - duration\n",
    "            if difference < 0:\n",
    "                break  \n",
    "\n"
   ]
  },
  {
   "cell_type": "code",
   "execution_count": 10,
   "metadata": {},
   "outputs": [
    {
     "name": "stdout",
     "output_type": "stream",
     "text": [
      "203.8800000000001\n"
     ]
    }
   ],
   "source": [
    "\n",
    "sp.user_playlist_add_tracks(\n",
    "\n"
   ]
  },
  {
   "cell_type": "code",
   "execution_count": null,
   "metadata": {},
   "outputs": [],
   "source": [
    "dict\n"
   ]
  },
  {
   "cell_type": "code",
   "execution_count": null,
   "metadata": {},
   "outputs": [],
   "source": [
    "toptracks = sp.current_user_top_tracks()['items']\n",
    "toptracks[0]['name']"
   ]
  },
  {
   "cell_type": "code",
   "execution_count": null,
   "metadata": {},
   "outputs": [],
   "source": [
    "analysis = sp.audio_analysis(toptracks[0]['id'])"
   ]
  },
  {
   "cell_type": "code",
   "execution_count": null,
   "metadata": {},
   "outputs": [],
   "source": [
    "analysis['track']['tempo']"
   ]
  },
  {
   "cell_type": "code",
   "execution_count": null,
   "metadata": {},
   "outputs": [],
   "source": [
    "toptracks[0]['id']"
   ]
  }
 ],
 "metadata": {
  "kernelspec": {
   "display_name": "Python 3",
   "language": "python",
   "name": "python3"
  },
  "language_info": {
   "codemirror_mode": {
    "name": "ipython",
    "version": 3
   },
   "file_extension": ".py",
   "mimetype": "text/x-python",
   "name": "python",
   "nbconvert_exporter": "python",
   "pygments_lexer": "ipython3",
   "version": "3.7.6"
  }
 },
 "nbformat": 4,
 "nbformat_minor": 4
}
