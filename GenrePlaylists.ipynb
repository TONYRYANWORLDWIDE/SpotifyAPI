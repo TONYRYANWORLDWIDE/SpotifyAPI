{
 "cells": [
  {
   "cell_type": "code",
   "execution_count": null,
   "metadata": {},
   "outputs": [],
   "source": [
    "import os\n",
    "import spotipy\n",
    "import spotipy.util as util\n",
    "from spotipy.oauth2 import SpotifyOAuth\n",
    "client_id = SPOTIPY_CLIENT_ID ='bb7c475418484e7784d9cd25b5f9f52c'\n",
    "client_secret = SPOTIPY_CLIENT_SECRET='b0da0baeeab1499884912aea11f4ca58'\n",
    "redirect_uri =SPOTIPY_REDIRECT_URI='https://localhost:8080/callback/'\n",
    "\n",
    "\n",
    "os.environ[\"SPOTIPY_CLIENT_ID\"] = \"bb7c475418484e7784d9cd25b5f9f52c\"\n",
    "os.environ[\"SPOTIPY_CLIENT_SECRET\"] = \"b0da0baeeab1499884912aea11f4ca58\"\n",
    "os.environ[\"SPOTIPY_REDIRECT_URI\"] = \"https://localhost:8080/callback/\"\n",
    "\n",
    "scope = \"playlist-modify-public playlist-modify-private user-modify-playback-state user-top-read\"\n",
    "scope +=            \" user-modify-playback-state user-read-playback-state user-library-read user-library-modify\"\n",
    "username = 'tonyryanworldwide'\n",
    "\n",
    "        \n",
    "token = util.prompt_for_user_token(username, scope, client_id, client_secret, redirect_uri)        \n",
    "sp = spotipy.Spotify(auth_manager=SpotifyOAuth(scope=scope,username=username))\n"
   ]
  },
  {
   "cell_type": "code",
   "execution_count": null,
   "metadata": {},
   "outputs": [],
   "source": [
    "import pandas as pd\n",
    "from pandas import DataFrame\n",
    "total = sp.current_user_saved_tracks()['total']\n",
    "offset = 50\n",
    "savedtracks = sp.current_user_saved_tracks(limit = 50)['items']\n",
    "while offset < total:\n",
    "    \n",
    "    savedtracks2 =sp.current_user_saved_tracks(limit = 50,offset=offset)['items']\n",
    "    for track in savedtracks2:\n",
    "        savedtracks.append(track)\n",
    "    offset += 50\n",
    "\n",
    "    \n",
    "trackinfo ={}   \n",
    "for trackex in savedtracks:\n",
    "    id = trackex['track']['id']\n",
    "    name = trackex['track']['name']\n",
    "    artistid = trackex['track']['artists'][0]['id']\n",
    "    seconds = trackex['track']['duration_ms']/1000\n",
    "    trackinfo[trackex['track']['id']] = {\"artist\" : artistid,\"name\":name,\"seconds\":seconds}\n",
    "#     trackinfo['loudness'] = sp.audio_features(id)[0]['loudness']\n",
    "    \n",
    "trackdf = pd.DataFrame.from_dict(trackinfo,orient = \"index\").reset_index()\n",
    "artists = trackdf.artist.unique()\n",
    "trackdf.columns = ['trackid','artistid','trackname','tracklength_sec']\n",
    "\n",
    "artistinfo = []\n",
    "i = 0\n",
    "while i < len(artists) - 50:\n",
    "    x=sp.artists(artists[i:i+50])['artists']\n",
    "    artistinfo.append(x)\n",
    "    i+=50\n",
    "artistfinal ={}\n",
    "for i in artistinfo:\n",
    "    for j in i:   \n",
    "        id = j['id']\n",
    "        name = j['name']\n",
    "        if len(j['genres']) > 0:\n",
    "            genre = j['genres']#[0]\n",
    "        else:\n",
    "            genre = ''\n",
    "        artistfinal[id] = {\"name\":name,\"genre\": genre}          \n",
    "artistdf = pd.DataFrame.from_dict(artistfinal,orient = \"index\").reset_index()\n",
    "artistdf = artistdf.reset_index()[['index','name','genre']]\n",
    "artistdf.columns = ['artistid','artistname','genre']\n",
    "artistdf =artistdf[artistdf['genre']!=''].reset_index()[['artistid','artistname','genre']]\n",
    "\n",
    "\n"
   ]
  },
  {
   "cell_type": "code",
   "execution_count": null,
   "metadata": {},
   "outputs": [],
   "source": [
    "tracks = list(trackinfo.keys())\n",
    "j = 0\n",
    "audfeat = []\n",
    "while j < len(tracks):\n",
    "    audfeat = audfeat +  sp.audio_features(tracks[j:j+100])\n",
    "    j += 100\n",
    "\n"
   ]
  },
  {
   "cell_type": "code",
   "execution_count": null,
   "metadata": {
    "scrolled": true
   },
   "outputs": [],
   "source": [
    "dfAudio = pd.DataFrame(audfeat)\n",
    "dfAudio.drop(columns=['key','mode','type','uri','track_href','analysis_url'],inplace = True)\n",
    "audio_features = dfAudio[dfAudio.columns[0:8]]\n",
    "audio_labels = dfAudio['id'].values\n",
    "\n"
   ]
  },
  {
   "cell_type": "code",
   "execution_count": null,
   "metadata": {
    "scrolled": true
   },
   "outputs": [],
   "source": [
    "from sklearn.preprocessing import MinMaxScaler\n",
    "from sklearn.decomposition import PCA\n",
    "\n",
    "\n",
    "\n",
    "\n",
    "# Normalize the numeric features so they're on the same scale\n",
    "audio_features[dfAudio.columns[0:8]] = MinMaxScaler().fit_transform(audio_features[dfAudio.columns[0:8]])\n",
    "\n",
    "\n",
    "\n",
    "# # Get two principal components\n",
    "pca = PCA(n_components=2).fit(audio_features.values)\n",
    "audio_2d = pca.transform(audio_features.values)\n",
    "audio_2d[0:10]\n",
    "\n",
    "\n",
    "pca = PCA(n_components=3).fit(audio_features.values)\n",
    "audio_3d = pca.transform(audio_features.values)\n",
    "audio_3d[0:10]"
   ]
  },
  {
   "cell_type": "code",
   "execution_count": null,
   "metadata": {},
   "outputs": [],
   "source": [
    "import matplotlib.pyplot as plt\n",
    "\n",
    "%matplotlib inline\n",
    "\n",
    "fig = plt.figure()\n",
    "ax = plt.axes(projection='3d')\n",
    "fig.set_size_inches(10, 10)\n",
    "\n",
    "plt.scatter(audio_3d[:,0],audio_3d[:,1],audio_3d[:,2])\n",
    "plt.xlabel('Dimension 1')\n",
    "plt.ylabel('Dimension 2')\n",
    "# plt.zlabel('Dimension 3')\n",
    "plt.title('audio Data')\n",
    "\n",
    "plt.show()"
   ]
  },
  {
   "cell_type": "code",
   "execution_count": null,
   "metadata": {},
   "outputs": [],
   "source": [
    "#importing the libraries\n",
    "import numpy as np\n",
    "import matplotlib.pyplot as plt\n",
    "from sklearn.cluster import KMeans\n",
    "from matplotlib.pyplot import figure\n",
    "%matplotlib inline\n",
    "\n",
    "# Create 10 models with 1 to 10 clusters\n",
    "wcss = []\n",
    "for i in range(1, 50):\n",
    "    kmeans = KMeans(n_clusters = i)\n",
    "    # Fit the Iris data points\n",
    "    kmeans.fit(audio_features.values)\n",
    "    # Get the WCSS (inertia) value\n",
    "    wcss.append(kmeans.inertia_)\n",
    "figure(figsize=(12, 12), dpi=80)  \n",
    "#Plot the WCSS values onto a line graph\n",
    "plt.plot(range(1, 50), wcss)\n",
    "plt.title('WCSS by Clusters')\n",
    "plt.xlabel('Number of clusters')\n",
    "plt.ylabel('WCSS')\n",
    "\n",
    "plt.show()"
   ]
  },
  {
   "cell_type": "code",
   "execution_count": null,
   "metadata": {},
   "outputs": [],
   "source": [
    "for i in range(2,len(wcss)):\n",
    "    diflast = wcss[i-1] - wcss[i-2]\n",
    "    dif = wcss[i] - wcss[i-1]\n",
    "    if dif < diflast:\n",
    "        n_clusters = i\n",
    "        break\n",
    "\n",
    "        \n",
    "        \n",
    "n_clusters"
   ]
  },
  {
   "cell_type": "code",
   "execution_count": null,
   "metadata": {},
   "outputs": [],
   "source": [
    "from sklearn.cluster import KMeans\n",
    "# Create a model based on n centroids\n",
    "model = KMeans(n_clusters=n_clusters, init='k-means++', n_init=50, max_iter=300,verbose= True,random_state = 56)\n",
    "\n",
    "# Fit to the iris data and predict the cluster assignments for each data point\n",
    "km_clusters = model.fit_predict(audio_features.values)\n",
    "# View the cluster assignments\n",
    "km_clusters"
   ]
  },
  {
   "cell_type": "code",
   "execution_count": null,
   "metadata": {},
   "outputs": [],
   "source": [
    "import itertools\n",
    "from matplotlib.pyplot import figure\n",
    "col_dic_base = {0:'blue',1:'green',2:'orange',3:'red',4:'yellow',\n",
    "                5:'black',6:'teal',7: 'brown', 8: 'purple',9: 'azure',\n",
    "                10:'slateblue',11:'green',12:'indianred',13:'orange',14:'yellow',\n",
    "                15:'black',16:'teal',17: 'brown', 18: 'purple',19: 'azure',\n",
    "               20:'thistle',21:'lightcyan'}\n",
    "mrk_dic_base = {0:'*',1:'x',2:'+',3:'p',4:'h',\n",
    "                5:'d',6:'<',7:'>',8:'*',9:'v',\n",
    "                10:'o',11:'.',12:'^',13:'s',14:'$&$',\n",
    "                15:'$@$',16:'$G$',17:'$4$',18:'$?$',19:'$19$',\n",
    "               20:'$P$',21:'$H$'}\n",
    "\n",
    "def plot_clusters(samples, clusters):\n",
    "    col_dic = dict(itertools.islice(col_dic_base.items(), n_clusters))\n",
    "    mrk_dic = dict(itertools.islice(mrk_dic_base.items(), n_clusters))\n",
    "    colors = [col_dic[x] for x in clusters]\n",
    "    markers = [mrk_dic[x] for x in clusters]\n",
    "    for sample in range(len(clusters)):\n",
    "        plt.scatter(samples[sample][0], samples[sample][1], color = colors[sample], marker=markers[sample], s=100)\n",
    "    plt.xlabel('Dimension 1')\n",
    "    plt.ylabel('Dimension 2')\n",
    "    plt.title('Assignments')    \n",
    "    plt.show()\n",
    "    \n",
    "    \n",
    "figure(figsize=(20, 20), dpi=80)\n",
    "plot_clusters(audio_2d, km_clusters)"
   ]
  },
  {
   "cell_type": "markdown",
   "metadata": {},
   "source": [
    "## Delete Old Clusters"
   ]
  },
  {
   "cell_type": "code",
   "execution_count": null,
   "metadata": {},
   "outputs": [],
   "source": [
    "#Delete\n",
    "lenplaylists = 1\n",
    "offset = 0\n",
    "while lenplaylists > 0:\n",
    "    playlists = sp.user_playlists(username,offset=offset)['items']\n",
    "    lenplaylists = len(playlists)\n",
    "    \n",
    "    for playlist in playlists:\n",
    "        name= playlist['name'] \n",
    "        id = playlist['uri'][-22:]    \n",
    "        if name[0:7] =='Cluster':\n",
    "            print('deleting{0} id {1}'.format(name,id))\n",
    "            sp.user_playlist_unfollow(user=username, playlist_id = id)\n",
    "    offset += 20"
   ]
  },
  {
   "cell_type": "code",
   "execution_count": null,
   "metadata": {},
   "outputs": [],
   "source": [
    "classifyer_dict = {}\n",
    "for x in range(0,len(audio_labels)):\n",
    "    classifyer_dict[audio_labels[x]] = km_clusters[x]\n",
    "classifyer_dict"
   ]
  },
  {
   "cell_type": "code",
   "execution_count": null,
   "metadata": {},
   "outputs": [],
   "source": [
    "for cluster in range(0,n_clusters):\n",
    "    name = 'Cluster Number ' + str(cluster)\n",
    "    id = sp.user_playlist_create(user=username,name=name)['id']\n",
    "    globals()[f\"cluster_{cluster}\"] = []\n",
    "    for (key, value) in classifyer_dict.items():\n",
    "#         print(key,value)\n",
    "        if value == cluster:\n",
    "#             print('yeah')\n",
    "            globals()[f\"cluster_{cluster}\"].append(key)\n",
    "    tracks = globals()[f\"cluster_{cluster}\"]\n",
    "    lengthtracks = len(tracks)\n",
    "    x= 0\n",
    "    if lengthtracks <= 100:\n",
    "        y = lengthtracks\n",
    "        print(\"x:{0} y:{1}\".format(x,y))\n",
    "        sp.user_playlist_add_tracks(user = username, playlist_id =id,tracks = tracks[x:y],position = 0)\n",
    "    else:\n",
    "        y = 100\n",
    "        print(\"1st else: x{} y{}\".format(x,y))\n",
    "        sp.user_playlist_add_tracks(user = username, playlist_id =id,tracks = tracks[x:y],position = 0)\n",
    "        iteration = 1\n",
    "        while y >0:\n",
    "            x = x +100\n",
    "            print(x,lengthtracks, 'Length of x and tracks')\n",
    "            if lengthtracks <= x  + 100:\n",
    "                y = lengthtracks   \n",
    "                print(\"inif: x{} y{}\".format(x,y))\n",
    "                sp.user_playlist_add_tracks(user = username, playlist_id =id,tracks = tracks[x:y],position = 0)\n",
    "                y = 0\n",
    "            else:\n",
    "                y = y + 100\n",
    "                print(\"else x:{} y:{}\".format(x,y))\n",
    "                sp.user_playlist_add_tracks(user = username, playlist_id =id,tracks = tracks[x:y],position = 0)\n",
    "            iteration += 1"
   ]
  },
  {
   "cell_type": "code",
   "execution_count": null,
   "metadata": {},
   "outputs": [],
   "source": [
    "column_names = [\"artistid\", \"artistname\", \"genre\"]\n",
    "\n",
    "finalartist = pd.DataFrame(columns = column_names)\n",
    "\n",
    "for i in range(0, len(artistdf)):\n",
    "    df = artistdf[i:i+1][['artistid','artistname']]\n",
    "#     print(i)\n",
    "#     print(df)\n",
    "    genres = artistdf[i:i+1]['genre'][i]\n",
    "    gf= DataFrame(genres,columns=['genre'])\n",
    "    product = (\n",
    "    df.assign(key=1)\n",
    "    .merge(gf.assign(key=1), on=\"key\")\n",
    "    .drop(\"key\", axis=1)\n",
    "    )\n",
    "    finalartist = finalartist.append(product)\n",
    "    "
   ]
  },
  {
   "cell_type": "code",
   "execution_count": null,
   "metadata": {},
   "outputs": [],
   "source": [
    "finaltrackinfo = trackdf.merge(finalartist, left_on = 'artistid', right_on = 'artistid', how = 'inner' )\n",
    "finaltrackinfo['cum_sec'] = finaltrackinfo.groupby('genre')['tracklength_sec'].apply(lambda x: x.cumsum())\n",
    "finaltrackinfo.to_csv('finaltrackinfo.csv')"
   ]
  },
  {
   "cell_type": "code",
   "execution_count": null,
   "metadata": {},
   "outputs": [],
   "source": [
    "genres = finaltrackinfo.groupby('genre').count().reset_index()[['genre','artistid']]\n",
    "genres.columns=['genre','count']\n",
    "genres = genres[(genres['count'] >= 25) & (genres['genre']!= '')].sort_values(by ='count', ascending = False)\n",
    "genrelist = genres['genre'].tolist()\n",
    "finaltrackinfo = finaltrackinfo[finaltrackinfo['genre'].isin(genres['genre'])]"
   ]
  },
  {
   "cell_type": "code",
   "execution_count": null,
   "metadata": {},
   "outputs": [],
   "source": [
    "def genrefilter(df,gen,sec_lim = 36000):\n",
    "    dfin = df['trackid'][(df['genre'] == gen) & (df['cum_sec'] <= sec_lim)]\n",
    "    return dfin.tolist()#[0:100]\n",
    "\n"
   ]
  },
  {
   "cell_type": "code",
   "execution_count": null,
   "metadata": {},
   "outputs": [],
   "source": []
  },
  {
   "cell_type": "code",
   "execution_count": null,
   "metadata": {},
   "outputs": [],
   "source": [
    "for gen in genrelist:\n",
    "    id = sp.user_playlist_create(user=username,name =gen)['id']\n",
    "    tracks = genrefilter(finaltrackinfo,gen)\n",
    "#     sp.user_playlist_add_tracks(user = username, playlist_id =id,tracks = tracks,position = 0)\n",
    "    lengthtracks = len(tracks)\n",
    "    x= 0\n",
    "    if lengthtracks <= 100:\n",
    "        y = lengthtracks\n",
    "        print(\"x:{0} y:{1}\".format(x,y))\n",
    "        sp.user_playlist_add_tracks(user = username, playlist_id =id,tracks = tracks[x:y],position = 0)\n",
    "    else:\n",
    "        y = 100\n",
    "        print(\"1st else: x{} y{}\".format(x,y))\n",
    "        sp.user_playlist_add_tracks(user = username, playlist_id =id,tracks = tracks[x:y],position = 0)\n",
    "        iteration = 1\n",
    "        while y >0:\n",
    "            x = x +100\n",
    "            if lengthtracks < x  + 100:\n",
    "                y = lengthtracks   \n",
    "                print(\"inif: x{} y{}\".format(x,y))\n",
    "                sp.user_playlist_add_tracks(user = username, playlist_id =id,tracks = tracks[x:y],position = 0)\n",
    "                y = 0\n",
    "            else:\n",
    "                y = y + 100\n",
    "                print(\"else x:{} y:{}\".format(x,y))\n",
    "                sp.user_playlist_add_tracks(user = username, playlist_id =id,tracks = tracks[x:y],position = 0)\n",
    "            iteration += 1"
   ]
  },
  {
   "cell_type": "code",
   "execution_count": null,
   "metadata": {},
   "outputs": [],
   "source": [
    "ignorelist = ['Your Top Songs 2018','Best Kings']\n",
    "\n",
    "def playplaylist():\n",
    "    currentsong = sp.current_playback()\n",
    "    if currentsong is None:\n",
    "        print('Nothing''s playing homie')\n",
    "        return\n",
    "    currenturi = currentsong['item']['external_urls']['spotify']\n",
    "    currentsongid = currentsong['item']['id']\n",
    "    progress_ms = currentsong['progress_ms']\n",
    "    playlists = sp.user_playlists(username,offset=0)['items']\n",
    "    playlistbase = (sp.user_playlists(username,offset=50)['items'])\n",
    "    for pl in playlistbase:\n",
    "        playlists.append(pl)\n",
    "    playlistids =[]\n",
    "    for playlist in playlists:\n",
    "        playlistid = playlist['id']\n",
    "        playlistname = playlist['name']\n",
    "        context_uri = playlist['external_urls']['spotify']\n",
    "        playlistids.append(playlistid)\n",
    "        playlist_tracks = sp.playlist_tracks(playlistid)['items']\n",
    "        for i in range(0,len(playlist_tracks)):\n",
    "            trackid = playlist_tracks[i]['track']['id']            \n",
    "            if (trackid == currentsongid):\n",
    "                print(trackid)\n",
    "                if playlistname not in ignorelist:\n",
    "                    print(\"trackid: {0} context_uri: {1} playlistname: {2} playlistid: {3}\".format(trackid,context_uri,playlistname,playlistid))\n",
    "                    sp.start_playback(context_uri = context_uri,offset ={'position':i},position_ms=progress_ms)\n",
    "                    return                \n",
    "    print('No Playlists')\n",
    "    \n",
    "playplaylist()\n"
   ]
  },
  {
   "cell_type": "code",
   "execution_count": null,
   "metadata": {},
   "outputs": [],
   "source": [
    "currentsong = sp.current_playback()\n",
    "print(currentsong)"
   ]
  },
  {
   "cell_type": "code",
   "execution_count": null,
   "metadata": {},
   "outputs": [],
   "source": [
    "currentsong = sp.current_playback()\n",
    "currenturi = currentsong['item']['external_urls']['spotify']\n",
    "trackid = '3BjNm8Zy8rnCSRquLOXSdu'\n",
    "playlist_tracks = sp.playlist_tracks('3OQAp1crJ3w7ypjdsvUtFS')['items']\n",
    "for i in range (0,len(playlist_tracks)):\n",
    "    track = playlist_tracks[i]['track']['id']\n",
    "    if track == trackid:\n",
    "        print(i)\n",
    "        sp.start_playback(context_uri = contexturi,offset={'position':i})"
   ]
  },
  {
   "cell_type": "code",
   "execution_count": null,
   "metadata": {},
   "outputs": [],
   "source": [
    "currentsong = sp.current_playback()\n",
    "currentsong['progress_ms']"
   ]
  },
  {
   "cell_type": "code",
   "execution_count": null,
   "metadata": {},
   "outputs": [],
   "source": [
    "\n",
    "\n",
    "if (playlistname not in ignorelist):\n",
    "    print('hi')"
   ]
  },
  {
   "cell_type": "code",
   "execution_count": null,
   "metadata": {},
   "outputs": [],
   "source": [
    "# sp.start_playback(context_uri = 'https://open.spotify.com/playlist/3BJ5LAJY99NDCFkxqJtnwo')\n",
    "\n",
    "playlists[0]['external_urls']['spotify']"
   ]
  },
  {
   "cell_type": "code",
   "execution_count": null,
   "metadata": {},
   "outputs": [],
   "source": [
    "currentsongid\n",
    "\n",
    "# currentsong = sp.current_playback()\n",
    "# currentson(g['item']['id']\n",
    "\n",
    "# playlistids[0]\n",
    "\n",
    "# tracks = sp.playlist_tracks(playlistids[0])['items']\n",
    "# tracks[0]['track']['id']"
   ]
  },
  {
   "cell_type": "markdown",
   "metadata": {},
   "source": [
    "## For Debugging Delete CreatedPlaylists"
   ]
  },
  {
   "cell_type": "code",
   "execution_count": null,
   "metadata": {
    "scrolled": true
   },
   "outputs": [],
   "source": [
    "# playlists =sp.current_user_playlists(offset=100)['items']\n",
    "playlists = sp.user_playlists(username,offset=50)['items']\n",
    "for playlist in playlists:\n",
    "    name= playlist['name']\n",
    "\n",
    "    \n",
    "    id = playlist['uri'][-22:]\n",
    "    \n",
    "    if name in genrelist:\n",
    "        print('deleting{0} id {1}'.format(name,id))\n",
    "        sp.user_playlist_unfollow(user=username, playlist_id = id)"
   ]
  },
  {
   "cell_type": "code",
   "execution_count": null,
   "metadata": {},
   "outputs": [],
   "source": [
    "offset =0\n",
    "playlistlength =50\n",
    "while(playlistlength == 50):   \n",
    "    playlists = sp.user_playlists(username,offset=offset)['items']\n",
    "    playlistlength = len(playlists)\n",
    "    print('')\n",
    "    print(\"playlistlength {0}\".format(playlistlength))\n",
    "    print('')\n",
    "    for playlist in playlists:\n",
    "        name= playlist['name']\n",
    "#         print(name)\n",
    "        id = playlist['uri'][-22:]\n",
    "    \n",
    "        if name in genrelist:\n",
    "#             print('')\n",
    "            print('deleting{0} id {1}'.format(name,id))\n",
    "            sp.user_playlist_unfollow(user=username, playlist_id = id)\n",
    "    offset += 50\n",
    "    "
   ]
  },
  {
   "cell_type": "code",
   "execution_count": null,
   "metadata": {},
   "outputs": [],
   "source": [
    "playlists = sp.user_playlists(username,offset=0)['items']\n",
    "len(playlists)"
   ]
  }
 ],
 "metadata": {
  "kernelspec": {
   "display_name": "Python (azureml)",
   "language": "python",
   "name": "azureml"
  },
  "language_info": {
   "codemirror_mode": {
    "name": "ipython",
    "version": 3
   },
   "file_extension": ".py",
   "mimetype": "text/x-python",
   "name": "python",
   "nbconvert_exporter": "python",
   "pygments_lexer": "ipython3",
   "version": "3.8.5"
  }
 },
 "nbformat": 4,
 "nbformat_minor": 4
}
